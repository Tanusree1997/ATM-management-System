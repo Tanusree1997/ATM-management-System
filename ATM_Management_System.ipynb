{
  "nbformat": 4,
  "nbformat_minor": 0,
  "metadata": {
    "colab": {
      "provenance": []
    },
    "kernelspec": {
      "name": "python3",
      "display_name": "Python 3"
    },
    "language_info": {
      "name": "python"
    }
  },
  "cells": [
    {
      "cell_type": "markdown",
      "source": [
        "#ATM Management System"
      ],
      "metadata": {
        "id": "FgoL0Wtg3lX6"
      }
    },
    {
      "cell_type": "code",
      "source": [
        "import random\n",
        "import time\n",
        "\n",
        "Cardnumber_PW = {567: 1567, 963: 4561, 125: 4785, 658: 7891}\n",
        "Balance = {567: 500000, 963: 785000, 125: 150450, 658: 15000}\n",
        "\n",
        "Attempt= 3\n",
        "Min_withdrawal= 100\n",
        "Safe_Withdrawal_threshold= 20000\n",
        "random.seed(time.time())\n",
        "random_number = random.randint(1000, 9999)\n",
        "\n",
        "\n",
        "print(\"Welcome to XYZ Bank !!\")\n",
        "#Manually enter the cardnumber (in reality machine is able to read it automatically)\n",
        "Cardnumber = int(input(\"Please insert your ATM card\"))\n",
        "\n",
        "if Cardnumber in Cardnumber_PW:\n",
        "  while Attempt !=0:\n",
        "    PIN= int(input(\"Please enter your 4 digit PIN\")) #Manually enter the PIN\n",
        "    if Cardnumber_PW[Cardnumber]!=PIN:\n",
        "      Attempt -= 1\n",
        "      print(\"Wrong PIN entered\")\n",
        "      print(f\"You have {Attempt} attempt left\")\n",
        "    elif Cardnumber_PW[Cardnumber]==PIN:\n",
        "      print(\"Users Menu: Balance Check, Deposit, Withdrawal, PIN reset\")\n",
        "      #Manually enter the option\n",
        "      User_choice = input(\"B: Balance Check, D: Deposit, W: Withdrawal, P: PIN reset\").upper()\n",
        "      if User_choice == \"B\":\n",
        "        print(f\"Your Account Balance is {Balance[Cardnumber]}\")\n",
        "\n",
        "      elif User_choice == \"D\":\n",
        "        #Manually enter the deposit amt (in reality machine is able to read it automatically)\n",
        "        Deposit_amt = int(input(\"Confirm the amount you want to deposit\"))\n",
        "        Balance[Cardnumber] = Balance[Cardnumber]+Deposit_amt\n",
        "        print(f\"You have deposited Rs.{Deposit_amt}\")\n",
        "        print(f\"Your total balance is Rs.{Balance[Cardnumber]}\")\n",
        "\n",
        "      elif User_choice == \"W\":\n",
        "        #Manually enter the withdrawal amt\n",
        "        Withdrawal_amt = int(input(\"Enter the amount you want to withdraw\"))\n",
        "        if Withdrawal_amt <= Safe_Withdrawal_threshold and Withdrawal_amt >= Min_withdrawal:\n",
        "          if Withdrawal_amt < Balance[Cardnumber]:\n",
        "            Balance[Cardnumber] = Balance[Cardnumber]-Withdrawal_amt\n",
        "            print(f\"You have withdrawn Rs.{Withdrawal_amt}\")\n",
        "            print(f\"Your total balance is Rs.{Balance[Cardnumber]}\")\n",
        "          else:\n",
        "            print(\"You have insufficient balance in your account\")\n",
        "        elif Withdrawal_amt > Safe_Withdrawal_threshold:\n",
        "          if Withdrawal_amt < Balance[Cardnumber]:\n",
        "            print(\"You have been sent a text message containing an OTP\")\n",
        "            print(f\"Your One time Password for this transaction is: {random_number}\")\n",
        "            User_entered_OTP= int(input(\"Enter the OTP\"))\n",
        "            if User_entered_OTP == random_number:\n",
        "              Balance[Cardnumber] = Balance[Cardnumber]-Withdrawal_amt\n",
        "              print(f\"You have withdrawn Rs.{Withdrawal_amt}\")\n",
        "              print(f\"Your total balance is Rs.{Balance[Cardnumber]}\")\n",
        "            else:\n",
        "              print(\"Your transaction has been cancelled as your entered OTP was wrong\")\n",
        "          else:\n",
        "            print(\"You have insufficient balance in your account\")\n",
        "        elif Withdrawal_amt < Min_withdrawal:\n",
        "          print(\"Enter a higher withdrawal amount than Rs. 100\")\n",
        "\n",
        "      elif User_choice == \"P\":\n",
        "        Existing_PIN= int(input(\"Enter your existing PIN\"))\n",
        "        if Existing_PIN == Cardnumber_PW[Cardnumber]:\n",
        "          New_PIN= int(input(\"Enter a 4 digit PIN\"))\n",
        "          Cardnumber_PW[Cardnumber]= New_PIN\n",
        "          print(\"You have successfully reset your PIN\")\n",
        "        else:\n",
        "          print(\"You have entered a worng PIN\")\n",
        "\n",
        "    User_exit= input(\"Would you like to exit? Yes/No\").upper()\n",
        "    if User_exit == \"YES\":\n",
        "      print(\"Thank you for using XYZ bank !!\")\n",
        "      break\n",
        "    else:\n",
        "      continue\n",
        "else:\n",
        "  print(f\"Cardnumber {Cardnumber} is not registered with XYZ Bank\")"
      ],
      "metadata": {
        "colab": {
          "base_uri": "https://localhost:8080/"
        },
        "id": "Pc0z3gj1alG6",
        "outputId": "ef2d3e8e-0dc1-4349-b76e-296fac5baa1e"
      },
      "execution_count": 4,
      "outputs": [
        {
          "output_type": "stream",
          "name": "stdout",
          "text": [
            "Welcome to XYZ Bank !!\n",
            "Please insert your ATM card567\n",
            "Please enter your 4 digit PIN1567\n",
            "Users Menu: Balance Check, Deposit, Withdrawal, PIN reset\n",
            "B: Balance Check, D: Deposit, W: Withdrawal, P: PIN resetw\n",
            "Enter the amount you want to withdraw15892036\n",
            "You have insufficient balance in your account\n",
            "Would you like to exit? Yes/Noyes\n",
            "Thank you for using XYZ bank !!\n"
          ]
        }
      ]
    }
  ]
}